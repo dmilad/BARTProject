{
 "cells": [
  {
   "cell_type": "code",
   "execution_count": 17,
   "metadata": {
    "collapsed": true
   },
   "outputs": [],
   "source": [
    "import MySQLdb\n",
    "from mysql_cred import mysql_user, mysql_passowrd, mysql_database\n",
    "from pprint import pprint\n",
    "import pandas as pd\n",
    "\n",
    "mysql_ip = '158.85.198.80'\n",
    "mysql_port = 3306"
   ]
  },
  {
   "cell_type": "code",
   "execution_count": 18,
   "metadata": {
    "collapsed": false
   },
   "outputs": [],
   "source": [
    "con = MySQLdb.connect(mysql_ip, mysql_user, mysql_passowrd, mysql_database, port = mysql_port)"
   ]
  },
  {
   "cell_type": "code",
   "execution_count": 26,
   "metadata": {
    "collapsed": false
   },
   "outputs": [],
   "source": [
    "def execute(query, printit = True):\n",
    "    con = MySQLdb.connect(mysql_ip, mysql_user, mysql_passowrd, mysql_database, port = mysql_port)\n",
    "    cursor = con.cursor()\n",
    "    cursor.execute(query)\n",
    "    result = cursor.fetchall()\n",
    "    #pprint(result)\n",
    "    df = pd.DataFrame.from_records(list(result))\n",
    "    if printit:\n",
    "        print df\n",
    "    return df"
   ]
  },
  {
   "cell_type": "code",
   "execution_count": 28,
   "metadata": {
    "collapsed": false
   },
   "outputs": [
    {
     "name": "stdout",
     "output_type": "stream",
     "text": [
      "   0                           1   2                                    3   \\\n",
      "0   1  2015-06-29 00:00:26.629730  35  Pittsburg/Bay Point - SFIA/Millbrae   \n",
      "1   2  2015-06-29 00:00:26.629730  35  Millbrae/SFIA - Pittsburg/Bay Point   \n",
      "2   3  2015-06-29 00:00:26.629730  35                   Fremont - Richmond   \n",
      "3   4  2015-06-29 00:00:26.629730  35                   Richmond - Fremont   \n",
      "4   5  2015-06-29 00:00:26.629730  35                  Fremont - Daly City   \n",
      "\n",
      "          4        5   6     7     8     9        10  11  12  \\\n",
      "0  PITT-SFIA  ROUTE 1   1  PITT  SFIA  None  #ffff33   1  26   \n",
      "1  SFIA-PITT  ROUTE 2   2  SFIA  PITT  None  #ffff33   1  26   \n",
      "2  FRMT-RICH  ROUTE 3   3  FRMT  RICH  None  #ff9933   1  18   \n",
      "3  RICH-FRMT  ROUTE 4   4  RICH  FRMT  None  #ff9933   1  18   \n",
      "4  FRMT-DALY  ROUTE 5   5  FRMT  DALY  None  #339933   0  19   \n",
      "\n",
      "                                                  13  \n",
      "0  PITT,NCON,CONC,PHIL,WCRK,LAFY,ORIN,ROCK,MCAR,1...  \n",
      "1  MLBR,SFIA,SBRN,SSAN,COLM,DALY,BALB,GLEN,24TH,1...  \n",
      "2  FRMT,UCTY,SHAY,HAYW,BAYF,SANL,COLS,FTVL,LAKE,1...  \n",
      "3  RICH,DELN,PLZA,NBRK,DBRK,ASHB,MCAR,19TH,12TH,L...  \n",
      "4  FRMT,UCTY,SHAY,HAYW,BAYF,SANL,COLS,FTVL,LAKE,W...  \n"
     ]
    }
   ],
   "source": [
    "df = execute(\"select * from rout_routeinfo limit 5;\")\n",
    "print df"
   ]
  },
  {
   "cell_type": "code",
   "execution_count": 30,
   "metadata": {
    "collapsed": false
   },
   "outputs": [
    {
     "name": "stdout",
     "output_type": "stream",
     "text": [
      "              0            1    2    3     4               5\n",
      "0           uid   bigint(20)   NO  PRI  None  auto_increment\n",
      "1     fetchtime  varchar(26)  YES       None                \n",
      "2     sched_num  smallint(6)  YES       None                \n",
      "3          name         text  YES       None                \n",
      "4          abbr   varchar(9)  YES       None                \n",
      "5       routeid   varchar(8)  YES       None                \n",
      "6        number   tinyint(4)  YES       None                \n",
      "7        origin   varchar(4)  YES       None                \n",
      "8   destination   varchar(4)  YES       None                \n",
      "9     direction   varchar(5)  YES       None                \n",
      "10        color   varchar(7)  YES       None                \n",
      "11     holidays   tinyint(4)  YES       None                \n",
      "12     num_stns   tinyint(4)  YES       None                \n",
      "13     stations         text  YES       None                \n"
     ]
    }
   ],
   "source": [
    "print execute(\"describe rout_routeinfo\")"
   ]
  },
  {
   "cell_type": "code",
   "execution_count": null,
   "metadata": {
    "collapsed": true
   },
   "outputs": [],
   "source": []
  }
 ],
 "metadata": {
  "kernelspec": {
   "display_name": "Python 2",
   "language": "python",
   "name": "python2"
  },
  "language_info": {
   "codemirror_mode": {
    "name": "ipython",
    "version": 2
   },
   "file_extension": ".py",
   "mimetype": "text/x-python",
   "name": "python",
   "nbconvert_exporter": "python",
   "pygments_lexer": "ipython2",
   "version": "2.7.8"
  }
 },
 "nbformat": 4,
 "nbformat_minor": 0
}
